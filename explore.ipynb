{
 "cells": [
  {
   "cell_type": "markdown",
   "metadata": {},
   "source": [
    "# Some simple data exploration for reddit data on pyspark"
   ]
  },
  {
   "cell_type": "code",
   "execution_count": 1,
   "metadata": {
    "collapsed": true
   },
   "outputs": [],
   "source": [
    "#from pyspark.sql import SQLContext\n",
    "import pandas as pd\n",
    "from pyspark.sql.functions import to_timestamp, from_unixtime\n",
    "from pyspark.sql.types import IntegerType\n",
    "import pyspark.sql\n",
    "from pyspark import SparkConf, SparkContext"
   ]
  },
  {
   "cell_type": "markdown",
   "metadata": {},
   "source": [
    "## This cell helps work around \"maxresultsize\" errors if they come up. "
   ]
  },
  {
   "cell_type": "code",
   "execution_count": 2,
   "metadata": {},
   "outputs": [
    {
     "data": {
      "text/html": [
       "\n",
       "        <div>\n",
       "            <p><b>SparkContext</b></p>\n",
       "\n",
       "            <p><a href=\"http://141.211.22.219:4040\">Spark UI</a></p>\n",
       "\n",
       "            <dl>\n",
       "              <dt>Version</dt>\n",
       "                <dd><code>v2.2.0.2.6.3.0-235</code></dd>\n",
       "              <dt>Master</dt>\n",
       "                <dd><code>yarn</code></dd>\n",
       "              <dt>AppName</dt>\n",
       "                <dd><code>PySparkShell</code></dd>\n",
       "            </dl>\n",
       "        </div>\n",
       "        "
      ],
      "text/plain": [
       "<SparkContext master=yarn appName=PySparkShell>"
      ]
     },
     "execution_count": 2,
     "metadata": {},
     "output_type": "execute_result"
    }
   ],
   "source": [
    "#must first stop initial spark context\n",
    "sc.stop()\n",
    "#make a new configuration\n",
    "conf = SparkConf()\n",
    "#set the value we want \n",
    "conf = (conf.set('spark.driver.maxResultSize', '5g'))\n",
    "#start a context with this configuration\n",
    "sc = SparkContext(conf=conf)\n",
    "#peak at it\n",
    "sc"
   ]
  },
  {
   "cell_type": "markdown",
   "metadata": {},
   "source": [
    "##  get an sql context for dealing with data from the generic spark context"
   ]
  },
  {
   "cell_type": "code",
   "execution_count": 3,
   "metadata": {
    "collapsed": true
   },
   "outputs": [],
   "source": [
    "sqlC = SQLContext(sc)"
   ]
  },
  {
   "cell_type": "markdown",
   "metadata": {},
   "source": [
    "## read our comments data\n",
    "- in this case already a parquet file in my working directory on HDFS"
   ]
  },
  {
   "cell_type": "code",
   "execution_count": 4,
   "metadata": {
    "collapsed": true
   },
   "outputs": [],
   "source": [
    "reddit = sqlC.read.parquet(\"all_comments.parquet\")"
   ]
  },
  {
   "cell_type": "markdown",
   "metadata": {},
   "source": [
    "## Basic exploration commanda below\n",
    "- similar to pandas"
   ]
  },
  {
   "cell_type": "code",
   "execution_count": 5,
   "metadata": {},
   "outputs": [
    {
     "name": "stdout",
     "output_type": "stream",
     "text": [
      "root\n",
      " |-- approved_at_utc: string (nullable = true)\n",
      " |-- approved_by: string (nullable = true)\n",
      " |-- archived: boolean (nullable = true)\n",
      " |-- author: string (nullable = true)\n",
      " |-- author_cakeday: boolean (nullable = true)\n",
      " |-- author_flair_css_class: string (nullable = true)\n",
      " |-- author_flair_text: string (nullable = true)\n",
      " |-- banned_at_utc: string (nullable = true)\n",
      " |-- banned_by: string (nullable = true)\n",
      " |-- body: string (nullable = true)\n",
      " |-- body_html: string (nullable = true)\n",
      " |-- can_gild: boolean (nullable = true)\n",
      " |-- can_mod_post: boolean (nullable = true)\n",
      " |-- collapsed: boolean (nullable = true)\n",
      " |-- collapsed_reason: string (nullable = true)\n",
      " |-- controversiality: long (nullable = true)\n",
      " |-- created: long (nullable = true)\n",
      " |-- created_utc: string (nullable = true)\n",
      " |-- distinguished: string (nullable = true)\n",
      " |-- downs: long (nullable = true)\n",
      " |-- edited: string (nullable = true)\n",
      " |-- gilded: long (nullable = true)\n",
      " |-- id: string (nullable = true)\n",
      " |-- is_submitter: boolean (nullable = true)\n",
      " |-- likes: string (nullable = true)\n",
      " |-- link_id: string (nullable = true)\n",
      " |-- mod_reports: array (nullable = true)\n",
      " |    |-- element: string (containsNull = true)\n",
      " |-- name: string (nullable = true)\n",
      " |-- num_reports: string (nullable = true)\n",
      " |-- parent_id: string (nullable = true)\n",
      " |-- removal_reason: string (nullable = true)\n",
      " |-- replies: string (nullable = true)\n",
      " |-- report_reasons: string (nullable = true)\n",
      " |-- retrieved_on: long (nullable = true)\n",
      " |-- saved: boolean (nullable = true)\n",
      " |-- score: long (nullable = true)\n",
      " |-- score_hidden: boolean (nullable = true)\n",
      " |-- stickied: boolean (nullable = true)\n",
      " |-- subreddit: string (nullable = true)\n",
      " |-- subreddit_id: string (nullable = true)\n",
      " |-- ups: long (nullable = true)\n",
      " |-- user_reports: array (nullable = true)\n",
      " |    |-- element: string (containsNull = true)\n",
      "\n"
     ]
    }
   ],
   "source": [
    "reddit.printSchema()"
   ]
  },
  {
   "cell_type": "markdown",
   "metadata": {},
   "source": [
    "## `show()` and `head()` are similar, but not identical"
   ]
  },
  {
   "cell_type": "code",
   "execution_count": null,
   "metadata": {
    "collapsed": true
   },
   "outputs": [],
   "source": [
    "reddit.show(5)"
   ]
  },
  {
   "cell_type": "code",
   "execution_count": 7,
   "metadata": {},
   "outputs": [
    {
     "data": {
      "text/plain": [
       "[Row(approved_at_utc=None, approved_by=None, archived=None, author=u'LordTulio', author_cakeday=None, author_flair_css_class=u'darkbluebg yellow', author_flair_text=u'Child of Apollo', banned_at_utc=None, banned_by=None, body=u'\"It\\'s been a month and a half since I got here.\"', body_html=None, can_gild=None, can_mod_post=None, collapsed=None, collapsed_reason=None, controversiality=0, created=None, created_utc=1470136108, distinguished=None, downs=None, edited=u'false', gilded=0, id=u'd60v3ej', is_submitter=None, likes=None, link_id=u't3_4vp5tt', mod_reports=None, name=None, num_reports=None, parent_id=u't1_d60uz66', removal_reason=None, replies=None, report_reasons=None, retrieved_on=1473152164, saved=None, score=2, score_hidden=None, stickied=False, subreddit=u'CampHalfBloodRP', subreddit_id=u't5_34k5q', ups=2, user_reports=None),\n",
       " Row(approved_at_utc=None, approved_by=None, archived=None, author=u'jankos_sabannfuhrer', author_cakeday=None, author_flair_css_class=u'', author_flair_text=u'vegan newbie', banned_at_utc=None, banned_by=None, body=u\"I've been wondering about this - for example there's a dark chocolate I love that contains NO dairy. But recently they had to change the packet to display a May Contain Traces of warning due to the same plant being used to make other chocolates. They released a statement saying the bars WONT contain dairy but for transparency's sake and allergies etc they had to display the warning. Knowing all of this I still catch myself having reservations about it - But that's probably just inexperience and overly worrying. Glad to see your comment in here ))\", body_html=None, can_gild=None, can_mod_post=None, collapsed=None, collapsed_reason=None, controversiality=0, created=None, created_utc=1470136108, distinguished=None, downs=None, edited=u'false', gilded=0, id=u'd60v3ek', is_submitter=None, likes=None, link_id=u't3_4vlyjy', mod_reports=None, name=None, num_reports=None, parent_id=u't1_d5znvxi', removal_reason=None, replies=None, report_reasons=None, retrieved_on=1473152164, saved=None, score=2, score_hidden=None, stickied=False, subreddit=u'vegan', subreddit_id=u't5_2qhpm', ups=2, user_reports=None),\n",
       " Row(approved_at_utc=None, approved_by=None, archived=None, author=u'Addicted2Craic', author_cakeday=None, author_flair_css_class=None, author_flair_text=None, banned_at_utc=None, banned_by=None, body=u\"From my understanding narcissists can certainly breed more narcissists. But also they can have a 'scape goat' child who they abuse/neglect. They often accuse this child of being narcissistic and selfish when in fact they're not. Also children in general mimic parent's behaviour - good or bad. When they grow up they start to realise the reality. It's a whole big mind fucking really and part of the reason lots cut off communication with the narcissist.\\nEdit: spelling \", body_html=None, can_gild=None, can_mod_post=None, collapsed=None, collapsed_reason=None, controversiality=0, created=None, created_utc=1470136109, distinguished=None, downs=None, edited=u'1.470176508E9', gilded=0, id=u'd60v3el', is_submitter=None, likes=None, link_id=u't3_4vpj92', mod_reports=None, name=None, num_reports=None, parent_id=u't1_d60scyf', removal_reason=None, replies=None, report_reasons=None, retrieved_on=1473152164, saved=None, score=15, score_hidden=None, stickied=False, subreddit=u'AskReddit', subreddit_id=u't5_2qh1i', ups=15, user_reports=None),\n",
       " Row(approved_at_utc=None, approved_by=None, archived=None, author=u'what_comes_after_q', author_cakeday=None, author_flair_css_class=None, author_flair_text=None, banned_at_utc=None, banned_by=None, body=u\"Doesn't matter. This would still be seen as a huge conflict of interest.\", body_html=None, can_gild=None, can_mod_post=None, collapsed=None, collapsed_reason=None, controversiality=0, created=None, created_utc=1470136109, distinguished=None, downs=None, edited=u'false', gilded=0, id=u'd60v3em', is_submitter=None, likes=None, link_id=u't3_4vlw93', mod_reports=None, name=None, num_reports=None, parent_id=u't1_d60u2j7', removal_reason=None, replies=None, report_reasons=None, retrieved_on=1473152164, saved=None, score=-1, score_hidden=None, stickied=False, subreddit=u'Futurology', subreddit_id=u't5_2t7no', ups=-1, user_reports=None),\n",
       " Row(approved_at_utc=None, approved_by=None, archived=None, author=u'ProgrammingProgram', author_cakeday=None, author_flair_css_class=None, author_flair_text=None, banned_at_utc=None, banned_by=None, body=u'INCOMING Blunt and to the point: The art style is just bad. It seems like someone pulled out assets from the Unity asset store then programmed it and threw it on Greenlight. Everything is inconsistent and very painful on my (not wearing glasses, soo..) eyes, so I think there\\'s a problem with that.\\n\\n\\nThe trailer looks like it was made in Window Movie Maker. Is that bad? No, but it seems like you made a slideshow instead and I don\\'t really think I\\'ll play a game where I\\'m just handed information and a few visuals. \"Here, the game has controllers and online multiplayer.\"\\n\\n\\nThe game itself.. it kind of seems fun but executing it properly would be hard. Kind of hard to see if you\\'ve put the time into making Mr. Green a unique mechanic himself (Mister, lol) with his.. Spider-Man movements.\\n\\n\\nI\\'d probably just pass on your game and not even care about it, so I think a rework on the trailer and possibly art needs to be done. Not saying it\\'s a bad game, but I wouldn\\'t buy a game that doesn\\'t have good graphics AND doesn\\'t look fun. Is that because I want good AAA graphics in every game? NO! But the style of the art is just.. bad.', body_html=None, can_gild=None, can_mod_post=None, collapsed=None, collapsed_reason=None, controversiality=0, created=None, created_utc=1470136109, distinguished=None, downs=None, edited=u'false', gilded=0, id=u'd60v3en', is_submitter=None, likes=None, link_id=u't3_4vkp8s', mod_reports=None, name=None, num_reports=None, parent_id=u't1_d5zby0v', removal_reason=None, replies=None, report_reasons=None, retrieved_on=1473152164, saved=None, score=1, score_hidden=None, stickied=False, subreddit=u'gamedev', subreddit_id=u't5_2qi0a', ups=1, user_reports=None)]"
      ]
     },
     "execution_count": 7,
     "metadata": {},
     "output_type": "execute_result"
    }
   ],
   "source": [
    "reddit.head(5)"
   ]
  },
  {
   "cell_type": "code",
   "execution_count": 8,
   "metadata": {},
   "outputs": [
    {
     "data": {
      "text/plain": [
       "3579502044"
      ]
     },
     "execution_count": 8,
     "metadata": {},
     "output_type": "execute_result"
    }
   ],
   "source": [
    "reddit.count()"
   ]
  },
  {
   "cell_type": "code",
   "execution_count": 9,
   "metadata": {},
   "outputs": [
    {
     "data": {
      "text/plain": [
       "507893"
      ]
     },
     "execution_count": 9,
     "metadata": {},
     "output_type": "execute_result"
    }
   ],
   "source": [
    "reddit.select('subreddit').distinct().count()"
   ]
  },
  {
   "cell_type": "code",
   "execution_count": 10,
   "metadata": {},
   "outputs": [
    {
     "data": {
      "text/plain": [
       "[Row(subreddit=u'anime'),\n",
       " Row(subreddit=u'mistyfront'),\n",
       " Row(subreddit=u'ukraina')]"
      ]
     },
     "execution_count": 10,
     "metadata": {},
     "output_type": "execute_result"
    }
   ],
   "source": [
    "reddit.select('subreddit').distinct().head(3)"
   ]
  },
  {
   "cell_type": "markdown",
   "metadata": {},
   "source": [
    "## modifying or creating columns\n",
    "- spark dataframes are immutable\n",
    "- the way around this is to use the `withColumn()` function\n",
    "\n",
    "- Still having trouble getting data conversion to work without errors, so for now just converting to integers and working with time as unix epoch"
   ]
  },
  {
   "cell_type": "code",
   "execution_count": 6,
   "metadata": {
    "collapsed": true
   },
   "outputs": [],
   "source": [
    "reddit=reddit.withColumn(\"created_utc\", reddit[\"created_utc\"].cast(IntegerType()))"
   ]
  },
  {
   "cell_type": "code",
   "execution_count": 14,
   "metadata": {},
   "outputs": [
    {
     "data": {
      "text/plain": [
       "716091653"
      ]
     },
     "execution_count": 14,
     "metadata": {},
     "output_type": "execute_result"
    }
   ],
   "source": [
    "# comments since 1/1/2017\n",
    "last_year = reddit.filter(reddit.created_utc > 1483228800)\n",
    "last_year.count()"
   ]
  },
  {
   "cell_type": "markdown",
   "metadata": {},
   "source": [
    "## group by to count posts per subreddit "
   ]
  },
  {
   "cell_type": "code",
   "execution_count": 15,
   "metadata": {
    "collapsed": true
   },
   "outputs": [],
   "source": [
    "tmp = last_year.groupby('subreddit').count()"
   ]
  },
  {
   "cell_type": "markdown",
   "metadata": {},
   "source": [
    "## `sort()` to show the most popular subreddits"
   ]
  },
  {
   "cell_type": "code",
   "execution_count": 16,
   "metadata": {},
   "outputs": [
    {
     "name": "stdout",
     "output_type": "stream",
     "text": [
      "+--------------------+--------+\n",
      "|           subreddit|   count|\n",
      "+--------------------+--------+\n",
      "|           AskReddit|46370353|\n",
      "|            politics|16209533|\n",
      "|          The_Donald|11044882|\n",
      "|                 nba| 9054604|\n",
      "|           worldnews| 7704001|\n",
      "|                news| 6921776|\n",
      "|RocketLeagueExchange| 6232113|\n",
      "|                 nfl| 5398420|\n",
      "|     leagueoflegends| 5392100|\n",
      "|                pics| 5391692|\n",
      "|              soccer| 5293575|\n",
      "|               funny| 5166878|\n",
      "|       SquaredCircle| 5102253|\n",
      "|              videos| 4688483|\n",
      "|              gaming| 4338802|\n",
      "|       todayilearned| 4310130|\n",
      "|           Overwatch| 4232777|\n",
      "|              hockey| 4097310|\n",
      "|              movies| 3673653|\n",
      "|        pcmasterrace| 3369668|\n",
      "|                gifs| 3135764|\n",
      "|      NintendoSwitch| 2999216|\n",
      "|      Showerthoughts| 2852968|\n",
      "|     GlobalOffensive| 2799473|\n",
      "|               DotA2| 2763965|\n",
      "|               anime| 2697897|\n",
      "|       relationships| 2671069|\n",
      "|                 MMA| 2580852|\n",
      "|      DestinyTheGame| 2532200|\n",
      "|                 CFB| 2333708|\n",
      "|          conspiracy| 2283083|\n",
      "|         hearthstone| 2260201|\n",
      "|   mildlyinteresting| 2118241|\n",
      "|              europe| 2091411|\n",
      "|                 aww| 2070058|\n",
      "|          ukpolitics| 1949113|\n",
      "|           teenagers| 1830093|\n",
      "|    FireEmblemHeroes| 1821215|\n",
      "|                FIFA| 1803300|\n",
      "|           2007scape| 1794975|\n",
      "+--------------------+--------+\n",
      "only showing top 40 rows\n",
      "\n"
     ]
    }
   ],
   "source": [
    "tmp.sort('count', ascending=False).show(40)"
   ]
  },
  {
   "cell_type": "code",
   "execution_count": null,
   "metadata": {
    "collapsed": true
   },
   "outputs": [],
   "source": []
  }
 ],
 "metadata": {
  "kernelspec": {
   "display_name": "Python 2",
   "language": "python",
   "name": "python2"
  },
  "language_info": {
   "codemirror_mode": {
    "name": "ipython",
    "version": 2
   },
   "file_extension": ".py",
   "mimetype": "text/x-python",
   "name": "python",
   "nbconvert_exporter": "python",
   "pygments_lexer": "ipython2",
   "version": "2.7.14"
  }
 },
 "nbformat": 4,
 "nbformat_minor": 2
}
