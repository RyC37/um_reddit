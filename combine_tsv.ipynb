{
 "cells": [
  {
   "cell_type": "markdown",
   "metadata": {},
   "source": [
    "# Recombining the partitions of each TSV file"
   ]
  },
  {
   "cell_type": "code",
   "execution_count": null,
   "metadata": {
    "collapsed": true
   },
   "outputs": [],
   "source": [
    "import pandas as pd\n",
    "import os"
   ]
  },
  {
   "cell_type": "markdown",
   "metadata": {},
   "source": [
    "## notes for pandas\n",
    "- `quoting=3` is needed to tell pandas to ignore all quotes. This works only because we stripped out `\\r\\n\\t` characters previously, and turned off quote escaping in pyspark's `write.csv`. "
   ]
  },
  {
   "cell_type": "code",
   "execution_count": null,
   "metadata": {
    "collapsed": true
   },
   "outputs": [],
   "source": [
    "def mk_df(root, parts):\n",
    "    data = []\n",
    "    for p in parts:\n",
    "        if 'csv' in p:\n",
    "            try:\n",
    "                tmp = pd.read_csv(root+'/'+p, sep='\\t', quoting=3)\n",
    "                data.append(tmp)\n",
    "            except pd.errors.EmptyDataError:\n",
    "                #some partitions won't have any data in them; this skips those\n",
    "                pass\n",
    "\n",
    "    if len(data) > 0:\n",
    "        df = pd.concat(data)\n",
    "    else:\n",
    "        df = pd.DataFrame()\n",
    "    \n",
    "    return df"
   ]
  },
  {
   "cell_type": "code",
   "execution_count": null,
   "metadata": {},
   "outputs": [],
   "source": [
    "files = os.listdir('./')\n",
    "\n",
    "for f in files:\n",
    "    if f.endswith('tsv.parts'):\n",
    "        name = f.rstrip('.parts')\n",
    "        print name\n",
    "        parts = os.listdir(f)\n",
    "        df = mk_df(f, parts)\n",
    "        df.to_csv(name, sep='\\t', index=False)\n",
    "        \n",
    "print('Done!')"
   ]
  },
  {
   "cell_type": "code",
   "execution_count": null,
   "metadata": {
    "collapsed": true
   },
   "outputs": [],
   "source": []
  }
 ],
 "metadata": {
  "kernelspec": {
   "display_name": "Python 2",
   "language": "python",
   "name": "python2"
  },
  "language_info": {
   "codemirror_mode": {
    "name": "ipython",
    "version": 2
   },
   "file_extension": ".py",
   "mimetype": "text/x-python",
   "name": "python",
   "nbconvert_exporter": "python",
   "pygments_lexer": "ipython2",
   "version": "2.7.14"
  }
 },
 "nbformat": 4,
 "nbformat_minor": 2
}
